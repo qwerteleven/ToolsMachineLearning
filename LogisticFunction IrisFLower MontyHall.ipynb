{
 "cells": [
  {
   "cell_type": "markdown",
   "metadata": {
    "colab_type": "text",
    "id": "5mjwQLW-CbAc"
   },
   "source": [
    "# <center> Logistic Function. </center>\n",
    "   <center> $ \\phi(x) = \\frac{1}{1 + \\exp(-x)} $ </center>\n",
    "   \n",
    "---"
   ]
  },
  {
   "cell_type": "code",
   "execution_count": null,
   "metadata": {},
   "outputs": [],
   "source": [
    "import numpy as np\n",
    "import scipy as sc\n",
    "import numpy.random as npr\n",
    "import matplotlib.pyplot as plt\n",
    "\n",
    "from scipy import special, stats\n",
    "from sklearn.datasets import load_iris"
   ]
  },
  {
   "cell_type": "code",
   "execution_count": 22,
   "metadata": {
    "colab": {
     "base_uri": "https://localhost:8080/",
     "height": 677
    },
    "colab_type": "code",
    "executionInfo": {
     "elapsed": 830,
     "status": "ok",
     "timestamp": 1542217933367,
     "user": {
      "displayName": "Carlos Santana",
      "photoUrl": "https://lh4.googleusercontent.com/-CeMGa-V2idY/AAAAAAAAAAI/AAAAAAAAO2Q/22S5ucbTeu8/s64/photo.jpg",
      "userId": "06972008324074016783"
     },
     "user_tz": 0
    },
    "id": "bTdjNuOp_JNH",
    "outputId": "0d5e2dbb-ae17-47a0-a016-6106ed0777d0"
   },
   "outputs": [
    {
     "data": {
      "image/png": "[encoded data removed]",
      "text/plain": [
       "<Figure size 432x288 with 1 Axes>"
      ]
     },
     "metadata": {
      "needs_background": "light"
     },
     "output_type": "display_data"
    }
   ],
   "source": [
    "sigm = lambda x: 1 / (1 + np.exp(-x))\n",
    "\n",
    "# Visualization\n",
    "_x = np.linspace(-10, 10, 100)\n",
    "plt.plot(_x, sigm(_x))\n",
    "plt.show()\n"
   ]
  },
  {
   "cell_type": "markdown",
   "metadata": {
    "colab_type": "text",
    "id": "zhxnpX6a_v1i"
   },
   "source": [
    "## Aleatory variables and distributions.\n",
    "\n",
    "---\n"
   ]
  },
  {
   "cell_type": "code",
   "execution_count": 37,
   "metadata": {
    "colab": {
     "base_uri": "https://localhost:8080/",
     "height": 347
    },
    "colab_type": "code",
    "executionInfo": {
     "elapsed": 1020,
     "status": "ok",
     "timestamp": 1542217936364,
     "user": {
      "displayName": "Carlos Santana",
      "photoUrl": "https://lh4.googleusercontent.com/-CeMGa-V2idY/AAAAAAAAAAI/AAAAAAAAO2Q/22S5ucbTeu8/s64/photo.jpg",
      "userId": "06972008324074016783"
     },
     "user_tz": 0
    },
    "id": "xIdW4DqDZMJt",
    "outputId": "8cd6838c-5829-40bf-e3e9-79db12c0e95e"
   },
   "outputs": [
    {
     "data": {
      "image/png": "[encoded data removed]",
      "text/plain": [
       "<Figure size 432x288 with 1 Axes>"
      ]
     },
     "metadata": {
      "needs_background": "light"
     },
     "output_type": "display_data"
    }
   ],
   "source": [
    "vals = sc.stats.norm(loc=5, scale=2).rvs(100000)\n",
    "\n",
    "_x = np.linspace(0, 10, 100)\n",
    "_p = sc.stats.norm(loc=5, scale=2).pdf(_x)\n",
    "\n",
    "plt.plot(_x, _p)\n",
    "\n",
    "plt.hist(vals, bins=100, density=True)\n",
    "plt.show()"
   ]
  },
  {
   "cell_type": "markdown",
   "metadata": {
    "colab_type": "text",
    "id": "zFoR64_E420i"
   },
   "source": [
    "## Iris Setosa exploration.\n",
    "\n",
    "---\n"
   ]
  },
  {
   "cell_type": "code",
   "execution_count": 40,
   "metadata": {},
   "outputs": [
    {
     "name": "stdout",
     "output_type": "stream",
     "text": [
      ".. _iris_dataset:\n",
      "\n",
      "Iris plants dataset\n",
      "--------------------\n",
      "\n",
      "**Data Set Characteristics:**\n",
      "\n",
      "    :Number of Instances: 150 (50 in each of three classes)\n",
      "    :Number of Attributes: 4 numeric, predictive attributes and the class\n",
      "    :Attribute Information:\n",
      "        - sepal length in cm\n",
      "        - sepal width in cm\n",
      "        - petal length in cm\n",
      "        - petal width in cm\n",
      "        - class:\n",
      "                - Iris-Setosa\n",
      "                - Iris-Versicolour\n",
      "                - Iris-Virginica\n",
      "                \n",
      "    :Summary Statistics:\n",
      "\n",
      "    ============== ==== ==== ======= ===== ====================\n",
      "                    Min  Max   Mean    SD   Class Correlation\n",
      "    ============== ==== ==== ======= ===== ====================\n",
      "    sepal length:   4.3  7.9   5.84   0.83    0.7826\n",
      "    sepal width:    2.0  4.4   3.05   0.43   -0.4194\n",
      "    petal length:   1.0  6.9   3.76   1.76    0.9490  (high!)\n",
      "    petal width:    0.1  2.5   1.20   0.76    0.9565  (high!)\n",
      "    ============== ==== ==== ======= ===== ====================\n",
      "\n",
      "    :Missing Attribute Values: None\n",
      "    :Class Distribution: 33.3% for each of 3 classes.\n",
      "    :Creator: R.A. Fisher\n",
      "    :Donor: Michael Marshall (MARSHALL%PLU@io.arc.nasa.gov)\n",
      "    :Date: July, 1988\n",
      "\n",
      "The famous Iris database, first used by Sir R.A. Fisher. The dataset is taken\n",
      "from Fisher's paper. Note that it's the same as in R, but not as in the UCI\n",
      "Machine Learning Repository, which has two wrong data points.\n",
      "\n",
      "This is perhaps the best known database to be found in the\n",
      "pattern recognition literature.  Fisher's paper is a classic in the field and\n",
      "is referenced frequently to this day.  (See Duda & Hart, for example.)  The\n",
      "data set contains 3 classes of 50 instances each, where each class refers to a\n",
      "type of iris plant.  One class is linearly separable from the other 2; the\n",
      "latter are NOT linearly separable from each other.\n",
      "\n",
      ".. topic:: References\n",
      "\n",
      "   - Fisher, R.A. \"The use of multiple measurements in taxonomic problems\"\n",
      "     Annual Eugenics, 7, Part II, 179-188 (1936); also in \"Contributions to\n",
      "     Mathematical Statistics\" (John Wiley, NY, 1950).\n",
      "   - Duda, R.O., & Hart, P.E. (1973) Pattern Classification and Scene Analysis.\n",
      "     (Q327.D83) John Wiley & Sons.  ISBN 0-471-22361-1.  See page 218.\n",
      "   - Dasarathy, B.V. (1980) \"Nosing Around the Neighborhood: A New System\n",
      "     Structure and Classification Rule for Recognition in Partially Exposed\n",
      "     Environments\".  IEEE Transactions on Pattern Analysis and Machine\n",
      "     Intelligence, Vol. PAMI-2, No. 1, 67-71.\n",
      "   - Gates, G.W. (1972) \"The Reduced Nearest Neighbor Rule\".  IEEE Transactions\n",
      "     on Information Theory, May 1972, 431-433.\n",
      "   - See also: 1988 MLC Proceedings, 54-64.  Cheeseman et al\"s AUTOCLASS II\n",
      "     conceptual clustering system finds 3 classes in the data.\n",
      "   - Many, many more ...\n"
     ]
    }
   ],
   "source": [
    "print(iris.DESCR)"
   ]
  },
  {
   "cell_type": "code",
   "execution_count": 44,
   "metadata": {
    "colab": {
     "base_uri": "https://localhost:8080/",
     "height": 793
    },
    "colab_type": "code",
    "executionInfo": {
     "elapsed": 1223,
     "status": "ok",
     "timestamp": 1542218048176,
     "user": {
      "displayName": "Carlos Santana",
      "photoUrl": "https://lh4.googleusercontent.com/-CeMGa-V2idY/AAAAAAAAAAI/AAAAAAAAO2Q/22S5ucbTeu8/s64/photo.jpg",
      "userId": "06972008324074016783"
     },
     "user_tz": 0
    },
    "id": "bIpJ7l0x4Nja",
    "outputId": "2086cb7d-0515-4192-a452-f411654d5d5b"
   },
   "outputs": [
    {
     "name": "stdout",
     "output_type": "stream",
     "text": [
      "minimun Value  :  [4.3 2.  1.  0.1]\n",
      "maximun Value  :  [7.9 4.4 6.9 2.5]\n",
      "Mean Value     :  [5.84333333 3.05733333 3.758      1.19933333]\n",
      "Variance Value :  [0.68569351 0.18997942 3.11627785 0.58100626]\n"
     ]
    },
    {
     "data": {
      "image/png": "[encoded data removed]",
      "text/plain": [
       "<Figure size 432x288 with 1 Axes>"
      ]
     },
     "metadata": {
      "needs_background": "light"
     },
     "output_type": "display_data"
    },
    {
     "data": {
      "image/png": "[encoded data removed]",
      "text/plain": [
       "<Figure size 432x288 with 1 Axes>"
      ]
     },
     "metadata": {
      "needs_background": "light"
     },
     "output_type": "display_data"
    }
   ],
   "source": [
    "\n",
    "iris = load_iris()\n",
    "\n",
    "X = iris.data\n",
    "Y = iris.target\n",
    "\n",
    "print(\"minimun Value  : \", sc.stats.describe(X).minmax[0])\n",
    "print(\"maximun Value  : \", sc.stats.describe(X).minmax[1])\n",
    "print(\"Mean Value     : \", sc.stats.describe(X).mean)\n",
    "print(\"Variance Value : \", sc.stats.describe(X).variance)\n",
    "\n",
    "plt.xlabel(\"Sepal Length\")\n",
    "plt.ylabel(\"Examples\")\n",
    "plt.hist(X[Y==0, 2], bins=10, alpha=0.5)\n",
    "plt.hist(X[Y==1, 2], bins=10, alpha=0.5)\n",
    "plt.hist(X[Y==2, 2], bins=10, alpha=0.5)\n",
    "plt.legend(['Iris Setosa', 'Iris Versicolour', 'Iris Virginica'])\n",
    "\n",
    "plt.show()\n",
    "\n",
    "\n",
    "plt.title(\"Sepal Length vs Petal Length\")\n",
    "plt.xlabel(\"Sepal Length\")\n",
    "plt.ylabel(\"Petal Length\")\n",
    "plt.scatter(X[Y == 0,0], X[Y == 0,3])\n",
    "plt.scatter(X[Y == 1,0], X[Y == 1,3])\n",
    "plt.scatter(X[Y == 2,0], X[Y == 2,3])\n",
    "plt.legend(['Iris Setosa', 'Iris Versicolour', 'Iris Virginica'])\n",
    "\n",
    "plt.show()"
   ]
  },
  {
   "cell_type": "markdown",
   "metadata": {
    "colab_type": "text",
    "id": "fJz-GP08aVDd"
   },
   "source": [
    "## Monty Hall Problem\n",
    "\n",
    "<br>\n",
    "\n",
    "https://en.wikipedia.org/wiki/Monty_Hall_problem \n",
    "\n",
    "---"
   ]
  },
  {
   "cell_type": "code",
   "execution_count": 50,
   "metadata": {
    "colab": {
     "base_uri": "https://localhost:8080/",
     "height": 34
    },
    "colab_type": "code",
    "executionInfo": {
     "elapsed": 1065,
     "status": "ok",
     "timestamp": 1557410499432,
     "user": {
      "displayName": "Carlos Santana",
      "photoUrl": "https://lh4.googleusercontent.com/-CeMGa-V2idY/AAAAAAAAAAI/AAAAAAAAO2Q/22S5ucbTeu8/s64/photo.jpg",
      "userId": "06972008324074016783"
     },
     "user_tz": -60
    },
    "id": "wNmh7yYKjGHE",
    "outputId": "7987baeb-009b-4c9c-f4f1-550e9d96a63d"
   },
   "outputs": [
    {
     "name": "stdout",
     "output_type": "stream",
     "text": [
      "The probability of winning by changing the door is 0.66844 %\n"
     ]
    }
   ],
   "source": [
    "\n",
    "simulations = 100000\n",
    "victorys    = 0\n",
    "\n",
    "for i in range(simulations):\n",
    "    \n",
    "    car = npr.randint(3)\n",
    "    doors = [\"goat\", \"car\", \"goat\"]  \n",
    "\n",
    "    selec = npr.randint(3)\n",
    "\n",
    "    for j in range(3):\n",
    "    \n",
    "        if j != sel and doors[j] == \"goat\":\n",
    "            opened = j\n",
    "            break\n",
    "\n",
    "    changeTo = [door for p, door in enumerate(doors) if p not in (opened, selec)][0]\n",
    "    \n",
    "    if changeTo == \"car\":\n",
    "        victorys += 1\n",
    "    \n",
    "print(\"The probability of winning by changing the door is\", victorys/simulations, \"%\")"
   ]
  }
 ],
 "metadata": {
  "colab": {
   "name": "(Solución) Exerc.1 - Introducción a las herramientas",
   "provenance": [
    {
     "file_id": "1lGV2Q0_7jEIST0U8T8XKpPyIsjkKSi73",
     "timestamp": 1542133132163
    }
   ],
   "version": "0.3.2"
  },
  "kernelspec": {
   "display_name": "Python 3",
   "language": "python",
   "name": "python3"
  },
  "language_info": {
   "codemirror_mode": {
    "name": "ipython",
    "version": 3
   },
   "file_extension": ".py",
   "mimetype": "text/x-python",
   "name": "python",
   "nbconvert_exporter": "python",
   "pygments_lexer": "ipython3",
   "version": "3.7.6"
  }
 },
 "nbformat": 4,
 "nbformat_minor": 1
}
