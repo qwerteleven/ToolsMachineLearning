{
 "cells": [
  {
   "cell_type": "markdown",
   "metadata": {
    "colab_type": "text",
    "id": "p5PAhkSzbkRi"
   },
   "source": [
    "# <center> Linear Regresion </center>"
   ]
  },
  {
   "cell_type": "code",
   "execution_count": 1,
   "metadata": {
    "colab": {},
    "colab_type": "code",
    "id": "g7pqJJrJd8v8"
   },
   "outputs": [],
   "source": [
    "import sklearn as skl\n",
    "import numpy as np\n",
    "import scipy as sc\n",
    "import matplotlib.pyplot as plt\n",
    "\n",
    "\n",
    "from sklearn.datasets import load_boston\n",
    "from sklearn import linear_model\n",
    "from sklearn.metrics import mean_squared_error"
   ]
  },
  {
   "cell_type": "code",
   "execution_count": 8,
   "metadata": {
    "colab": {},
    "colab_type": "code",
    "id": "cBF-24BkiruX"
   },
   "outputs": [
    {
     "name": "stdout",
     "output_type": "stream",
     "text": [
      ".. _boston_dataset:\n",
      "\n",
      "Boston house prices dataset\n",
      "---------------------------\n",
      "\n",
      "**Data Set Characteristics:**  \n",
      "\n",
      "    :Number of Instances: 506 \n",
      "\n",
      "    :Number of Attributes: 13 numeric/categorical predictive. Median Value (attribute 14) is usually the target.\n",
      "\n",
      "    :Attribute Information (in order):\n",
      "        - CRIM     per capita crime rate by town\n",
      "        - ZN       proportion of residential land zoned for lots over 25,000 sq.ft.\n",
      "        - INDUS    proportion of non-retail business acres per town\n",
      "        - CHAS     Charles River dummy variable (= 1 if tract bounds river; 0 otherwise)\n",
      "        - NOX      nitric oxides concentration (parts per 10 million)\n",
      "        - RM       average number of rooms per dwelling\n",
      "        - AGE      proportion of owner-occupied units built prior to 1940\n",
      "        - DIS      weighted distances to five Boston employment centres\n",
      "        - RAD      index of accessibility to radial highways\n",
      "        - TAX      full-value property-tax rate per $10,000\n",
      "        - PTRATIO  pupil-teacher ratio by town\n",
      "        - B        1000(Bk - 0.63)^2 where Bk is the proportion of blacks by town\n",
      "        - LSTAT    % lower status of the population\n",
      "        - MEDV     Median value of owner-occupied homes in $1000's\n",
      "\n",
      "    :Missing Attribute Values: None\n",
      "\n",
      "    :Creator: Harrison, D. and Rubinfeld, D.L.\n",
      "\n",
      "This is a copy of UCI ML housing dataset.\n",
      "https://archive.ics.uci.edu/ml/machine-learning-databases/housing/\n",
      "\n",
      "\n",
      "This dataset was taken from the StatLib library which is maintained at Carnegie Mellon University.\n",
      "\n",
      "The Boston house-price data of Harrison, D. and Rubinfeld, D.L. 'Hedonic\n",
      "prices and the demand for clean air', J. Environ. Economics & Management,\n",
      "vol.5, 81-102, 1978.   Used in Belsley, Kuh & Welsch, 'Regression diagnostics\n",
      "...', Wiley, 1980.   N.B. Various transformations are used in the table on\n",
      "pages 244-261 of the latter.\n",
      "\n",
      "The Boston house-price data has been used in many machine learning papers that address regression\n",
      "problems.   \n",
      "     \n",
      ".. topic:: References\n",
      "\n",
      "   - Belsley, Kuh & Welsch, 'Regression diagnostics: Identifying Influential Data and Sources of Collinearity', Wiley, 1980. 244-261.\n",
      "   - Quinlan,R. (1993). Combining Instance-Based and Model-Based Learning. In Proceedings on the Tenth International Conference of Machine Learning, 236-243, University of Massachusetts, Amherst. Morgan Kaufmann.\n",
      "\n",
      ".. _boston_dataset:\n",
      "\n",
      "Boston house prices dataset\n",
      "---------------------------\n",
      "\n",
      "**Data Set Characteristics:**  \n",
      "\n",
      "    :Number of Instances: 506 \n",
      "\n",
      "    :Number of Attributes: 13 numeric/categorical predictive. Median Value (attribute 14) is usually the target.\n",
      "\n",
      "    :Attribute Information (in order):\n",
      "        - CRIM     per capita crime rate by town\n",
      "        - ZN       proportion of residential land zoned for lots over 25,000 sq.ft.\n",
      "        - INDUS    proportion of non-retail business acres per town\n",
      "        - CHAS     Charles River dummy variable (= 1 if tract bounds river; 0 otherwise)\n",
      "        - NOX      nitric oxides concentration (parts per 10 million)\n",
      "        - RM       average number of rooms per dwelling\n",
      "        - AGE      proportion of owner-occupied units built prior to 1940\n",
      "        - DIS      weighted distances to five Boston employment centres\n",
      "        - RAD      index of accessibility to radial highways\n",
      "        - TAX      full-value property-tax rate per $10,000\n",
      "        - PTRATIO  pupil-teacher ratio by town\n",
      "        - B        1000(Bk - 0.63)^2 where Bk is the proportion of blacks by town\n",
      "        - LSTAT    % lower status of the population\n",
      "        - MEDV     Median value of owner-occupied homes in $1000's\n",
      "\n",
      "    :Missing Attribute Values: None\n",
      "\n",
      "    :Creator: Harrison, D. and Rubinfeld, D.L.\n",
      "\n",
      "This is a copy of UCI ML housing dataset.\n",
      "https://archive.ics.uci.edu/ml/machine-learning-databases/housing/\n",
      "\n",
      "\n",
      "This dataset was taken from the StatLib library which is maintained at Carnegie Mellon University.\n",
      "\n",
      "The Boston house-price data of Harrison, D. and Rubinfeld, D.L. 'Hedonic\n",
      "prices and the demand for clean air', J. Environ. Economics & Management,\n",
      "vol.5, 81-102, 1978.   Used in Belsley, Kuh & Welsch, 'Regression diagnostics\n",
      "...', Wiley, 1980.   N.B. Various transformations are used in the table on\n",
      "pages 244-261 of the latter.\n",
      "\n",
      "The Boston house-price data has been used in many machine learning papers that address regression\n",
      "problems.   \n",
      "     \n",
      ".. topic:: References\n",
      "\n",
      "   - Belsley, Kuh & Welsch, 'Regression diagnostics: Identifying Influential Data and Sources of Collinearity', Wiley, 1980. 244-261.\n",
      "   - Quinlan,R. (1993). Combining Instance-Based and Model-Based Learning. In Proceedings on the Tenth International Conference of Machine Learning, 236-243, University of Massachusetts, Amherst. Morgan Kaufmann.\n",
      "\n"
     ]
    }
   ],
   "source": [
    "boston_dataset = load_boston()\n",
    "\n",
    "print(boston_dataset.DESCR)\n",
    "\n",
    "X = boston_dataset.data\n",
    "Y = boston_dataset.target\n",
    "\n",
    "n, p = X.shape\n",
    "\n",
    "print(boston_dataset.DESCR)"
   ]
  },
  {
   "cell_type": "markdown",
   "metadata": {
    "colab_type": "text",
    "id": "diQ3uwM5uuTb"
   },
   "source": [
    "## Analysis of Data\n",
    "\n",
    "---"
   ]
  },
  {
   "cell_type": "code",
   "execution_count": 12,
   "metadata": {
    "colab": {
     "base_uri": "https://localhost:8080/",
     "height": 686
    },
    "colab_type": "code",
    "executionInfo": {
     "elapsed": 1213,
     "status": "ok",
     "timestamp": 1557427729875,
     "user": {
      "displayName": "Carlos Santana",
      "photoUrl": "https://lh4.googleusercontent.com/-CeMGa-V2idY/AAAAAAAAAAI/AAAAAAAAO2Q/22S5ucbTeu8/s64/photo.jpg",
      "userId": "06972008324074016783"
     },
     "user_tz": -60
    },
    "id": "pooVJc8b6WEE",
    "outputId": "a6c4b3b7-ed26-4a76-c2d4-4a09dfdc5aec"
   },
   "outputs": [
    {
     "name": "stdout",
     "output_type": "stream",
     "text": [
      "---\n",
      "coefficent of Correlationship: 0.695359947071539\n",
      "---\n",
      "Mean value of house with RM between ->  5 > RM > 6 : 17.551592356687898\n"
     ]
    },
    {
     "data": {
      "image/png": "[encoded data removed]",
      "text/plain": [
       "<Figure size 432x288 with 1 Axes>"
      ]
     },
     "metadata": {
      "needs_background": "light"
     },
     "output_type": "display_data"
    },
    {
     "data": {
      "image/png": "[encoded data removed]",
      "text/plain": [
       "<Figure size 432x288 with 1 Axes>"
      ]
     },
     "metadata": {
      "needs_background": "light"
     },
     "output_type": "display_data"
    },
    {
     "name": "stdout",
     "output_type": "stream",
     "text": [
      "Abnormal mean home value for exactly $ 50,000. Possible truncation\n"
     ]
    }
   ],
   "source": [
    "\n",
    "print(\"---\")\n",
    "print(\"coefficent of Correlationship:\", np.corrcoef(X[:, 5], Y)[0, 1])\n",
    "\n",
    "print(\"---\")\n",
    "mask = np.logical_and(X[:,5] > 5, X[:,5] < 6)\n",
    "print(\"Mean value of house with RM between ->  5 > RM > 6 :\", np.mean(Y[mask]))\n",
    "\n",
    "\n",
    "plt.title(\"RM vs MDEV\")\n",
    "plt.xlabel(\"Mean rooms (RM)\")\n",
    "plt.ylabel(\"Mean Value House (MDEV)\")\n",
    "plt.scatter(X[:, 5], Y, alpha=0.4)\n",
    "plt.show()\n",
    "\n",
    "\n",
    "\n",
    "plt.hist(Y, bins=120)\n",
    "plt.ylabel('Examples')\n",
    "plt.xlabel('Prize -> miles $')\n",
    "plt.show()\n",
    "\n",
    "print('''Abnormal mean home value for exactly $ 50,000. Possible truncation''')"
   ]
  },
  {
   "cell_type": "markdown",
   "metadata": {
    "colab_type": "text",
    "id": "77hvTCml_as6"
   },
   "source": [
    "## <center> Simple Linear Regression - Ordinary least squares </center>\n",
    "<br>\n",
    "<center> $ W = (X^TX)^{-1}X^TY $ </center>\n",
    "\n",
    "---\n",
    "\n",
    "## <center> Mean Squared Error </center>\n",
    "<br>\n",
    "<center> $ \\operatorname{MSE}=\\frac{1}{n}\\sum_{i=1}^n(Y_{Pi} - Y_i)^2. $ </center>\n",
    "\n",
    "---\n"
   ]
  },
  {
   "cell_type": "code",
   "execution_count": 14,
   "metadata": {
    "colab": {
     "base_uri": "https://localhost:8080/",
     "height": 382
    },
    "colab_type": "code",
    "executionInfo": {
     "elapsed": 1229,
     "status": "ok",
     "timestamp": 1557427735511,
     "user": {
      "displayName": "Carlos Santana",
      "photoUrl": "https://lh4.googleusercontent.com/-CeMGa-V2idY/AAAAAAAAAAI/AAAAAAAAO2Q/22S5ucbTeu8/s64/photo.jpg",
      "userId": "06972008324074016783"
     },
     "user_tz": -60
    },
    "id": "uBXHrSYnEW8M",
    "outputId": "81d234a0-a7c8-4168-ff69-5e77a84c6c7f"
   },
   "outputs": [
    {
     "data": {
      "image/png": "[encoded data removed]",
      "text/plain": [
       "<Figure size 432x288 with 1 Axes>"
      ]
     },
     "metadata": {
      "needs_background": "light"
     },
     "output_type": "display_data"
    },
    {
     "name": "stdout",
     "output_type": "stream",
     "text": [
      "---\n",
      "Value predicted for a home with 3 rooms:  [47.24836005]\n",
      "Mean rooms in homes for 45.000$:  [8.75298471]\n",
      "---\n",
      "Mean Squared Error: 43.60055177116956\n"
     ]
    }
   ],
   "source": [
    "\n",
    "plt.title(\"Linear Regression\")\n",
    "plt.scatter(X[:, 5], Y, alpha=0.5)\n",
    "plt.xlabel(\"Mean numbers of rooms (RM)\")\n",
    "plt.ylabel(\"Mean value of home (MDEV)\")\n",
    "\n",
    "aX = np.hstack((np.ones((n,1)), X[:,5:6]))\n",
    "\n",
    "_Y = Y[:, np.newaxis]\n",
    "\n",
    "# Linear regression aplication\n",
    "W = np.linalg.inv(aX.T @ aX) @ aX.T @ _Y\n",
    "\n",
    "# Plot the regression\n",
    "x0 = [4, 9]\n",
    "plt.plot(x0, [W[0, 0] + W[1, 0] * x0[0], \n",
    "              W[0, 0] + W[1, 0] * x0[1]], \n",
    "         c=\"red\")\n",
    "\n",
    "plt.show()\n",
    "\n",
    "print(\"---\")\n",
    "\n",
    "print(\"Value predicted for a home with 3 rooms: \", [1, 9] @ W)\n",
    "print(\"Mean rooms in homes for 45.000$: \", (45 - W[0])/W[1])\n",
    "\n",
    "print(\"---\")\n",
    "\n",
    "Yp = aX @ W\n",
    "\n",
    "MSE = lambda Yp, Y: np.mean(np.power(Yp - Y[:, np.newaxis], 2))\n",
    "print(\"Mean Squared Error:\", MSE(Yp, Y))"
   ]
  },
  {
   "cell_type": "markdown",
   "metadata": {
    "colab_type": "text",
    "id": "97yJHn9aDN3g"
   },
   "source": [
    "## Simple Linear Regression with Sklearn.\n",
    "\n",
    "---\n"
   ]
  },
  {
   "cell_type": "code",
   "execution_count": 22,
   "metadata": {
    "colab": {
     "base_uri": "https://localhost:8080/",
     "height": 69
    },
    "colab_type": "code",
    "executionInfo": {
     "elapsed": 843,
     "status": "ok",
     "timestamp": 1557427748729,
     "user": {
      "displayName": "Carlos Santana",
      "photoUrl": "https://lh4.googleusercontent.com/-CeMGa-V2idY/AAAAAAAAAAI/AAAAAAAAO2Q/22S5ucbTeu8/s64/photo.jpg",
      "userId": "06972008324074016783"
     },
     "user_tz": -60
    },
    "id": "xwwMXdGzG_kf",
    "outputId": "cd88195a-e10c-428a-a139-badf20ff06ed"
   },
   "outputs": [
    {
     "name": "stdout",
     "output_type": "stream",
     "text": [
      "[[9.10210898]] [-34.67062078]\n",
      "[[47.24836005]]\n",
      "43.60055177116956\n"
     ]
    }
   ],
   "source": [
    "\n",
    "regr = linear_model.LinearRegression()\n",
    "\n",
    "regr.fit(X[:, 5:6], Y[:, np.newaxis])\n",
    "\n",
    "y_pred = regr.predict([[9]])\n",
    "\n",
    "print(regr.coef_, regr.intercept_)\n",
    "print(y_pred)\n",
    "print(mean_squared_error(Y, regr.predict(X[:, 5:6])))"
   ]
  },
  {
   "cell_type": "markdown",
   "metadata": {
    "colab_type": "text",
    "id": "5OU7JKm0QLyW"
   },
   "source": [
    "## <center> Multiple Linear Regression </center>\n",
    "\n",
    "<center> $ W = (X^TX)^{-1}X^TY $ </center>\n",
    "\n",
    "---"
   ]
  },
  {
   "cell_type": "code",
   "execution_count": 27,
   "metadata": {
    "colab": {},
    "colab_type": "code",
    "id": "aLCT_xrxTF87"
   },
   "outputs": [
    {
     "name": "stdout",
     "output_type": "stream",
     "text": [
      "---\n",
      "[18.56711151] [[ 0.          4.51542094 -0.93072256 -0.57180569]]\n",
      "Mean Squared Error : 27.130405758497062\n"
     ]
    }
   ],
   "source": [
    "regr = linear_model.LinearRegression()\n",
    "regr.fit(aX, Y[:, np.newaxis])\n",
    "\n",
    "\n",
    "print(\"---\")\n",
    "print(regr.intercept_, regr.coef_)\n",
    "print(\"Mean Squared Error :\", mean_squared_error(Y, regr.predict(aX)))\n"
   ]
  }
 ],
 "metadata": {
  "colab": {
   "name": "(Solución) Exerc.2 - Regresión Lineal",
   "provenance": [
    {
     "file_id": "1G8Ej7OvAfvKZHh01tqIIs2wqFSLkWW0z",
     "timestamp": 1542218180842
    }
   ],
   "version": "0.3.2"
  },
  "kernelspec": {
   "display_name": "Python 3",
   "language": "python",
   "name": "python3"
  },
  "language_info": {
   "codemirror_mode": {
    "name": "ipython",
    "version": 3
   },
   "file_extension": ".py",
   "mimetype": "text/x-python",
   "name": "python",
   "nbconvert_exporter": "python",
   "pygments_lexer": "ipython3",
   "version": "3.7.6"
  }
 },
 "nbformat": 4,
 "nbformat_minor": 1
}
