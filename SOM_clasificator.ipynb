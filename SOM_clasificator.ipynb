{
 "cells": [
  {
   "cell_type": "code",
   "execution_count": 1,
   "metadata": {},
   "outputs": [
    {
     "name": "stdout",
     "output_type": "stream",
     "text": [
      "WARNING:tensorflow:From D:\\anaconda\\envs\\CUDA\\lib\\site-packages\\tensorflow\\python\\compat\\v2_compat.py:96: disable_resource_variables (from tensorflow.python.ops.variable_scope) is deprecated and will be removed in a future version.\n",
      "Instructions for updating:\n",
      "non-resource variables are not supported in the long term\n"
     ]
    }
   ],
   "source": [
    "import pandas as pd\n",
    "import matplotlib.pyplot as plt\n",
    "import numpy as np\n",
    "from time import time\n",
    "import tensorflow.compat.v1 as tf\n",
    "from sklearn.preprocessing import MinMaxScaler\n",
    "from sklearn.decomposition import PCA\n",
    "\n",
    "\n",
    "tf.compat.v1.disable_v2_behavior()"
   ]
  },
  {
   "cell_type": "code",
   "execution_count": 3,
   "metadata": {},
   "outputs": [],
   "source": [
    "class SOM(): \n",
    "\n",
    "    def __init__(self,m,n,dim,learning_rate_som = 0.5, radius_factor = 1.3):\n",
    "        \n",
    "        self.m = m\n",
    "        self.n = n\n",
    "        self.dim = dim\n",
    "        self.map = tf.Variable(tf.random.uniform(shape=[m*n,dim],minval=0,maxval=1,seed=2))\n",
    "        self.location_vects = tf.constant(np.array(list(self._neuron_locations(m, n))))\n",
    "        self.alpha = learning_rate_som\n",
    "        self.sigma = max(m,n)*1.1\n",
    "\n",
    "    def _neuron_locations(self, m, n):\n",
    "        for i in range(m):\n",
    "            for j in range(n):\n",
    "                yield np.array([i, j])\n",
    "\n",
    "    def getmap(self): return self.map\n",
    "    def getlocation(self): return self.bmu_locs\n",
    "\n",
    "    def feedforward(self, input):\n",
    "    \n",
    "        self.input = input\n",
    "        self.squared_distance = tf.reduce_sum(tf.pow(tf.subtract(tf.expand_dims(self.map, axis=0),tf.expand_dims(self.input, axis=1)), 2), 2)\n",
    "        self.bmu_indices = tf.argmin(self.squared_distance, axis=1)\n",
    "        self.bmu_locs = tf.reshape(tf.gather(self.location_vects, self.bmu_indices), [-1, 2])\n",
    "\n",
    "    def backprop(self,iter,num_epoch):\n",
    "\n",
    "        # Update the weigths \n",
    "        radius = tf.subtract(self.sigma,\n",
    "                                tf.multiply(iter,\n",
    "                                            tf.divide(tf.cast(tf.subtract(self.alpha, 1), tf.float32),\n",
    "                                                    tf.cast(tf.subtract(num_epoch, 1), tf.float32))))\n",
    "\n",
    "        alpha = tf.subtract(self.alpha,\n",
    "                            tf.multiply(iter,\n",
    "                                            tf.divide(tf.cast(tf.subtract(self.alpha, 1), tf.float32),\n",
    "                                                      tf.cast(tf.subtract(num_epoch, 1), tf.float32))))\n",
    "\n",
    "        self.bmu_distance_squares = tf.reduce_sum(\n",
    "                tf.pow(tf.subtract(\n",
    "                    tf.expand_dims(self.location_vects, axis=0),\n",
    "                    tf.expand_dims(self.bmu_locs, axis=1)), 2), \n",
    "            2)\n",
    "\n",
    "        self.neighbourhood_func = tf.exp(tf.divide(tf.negative(tf.cast(\n",
    "                self.bmu_distance_squares, \"float32\")), tf.multiply(\n",
    "                tf.square(tf.multiply(radius, 0.08)), 2)))\n",
    "\n",
    "        self.learning_rate_op = tf.multiply(self.neighbourhood_func, alpha)\n",
    "        \n",
    "        self.numerator = tf.reduce_sum(\n",
    "            tf.multiply(tf.expand_dims(self.learning_rate_op, axis=-1),\n",
    "            tf.expand_dims(self.input, axis=1)), axis=0)\n",
    "\n",
    "        self.denominator = tf.expand_dims(\n",
    "            tf.reduce_sum(self.learning_rate_op,axis=0) + float(1e-20), axis=-1)\n",
    "\n",
    "        self.new_weights = tf.div(self.numerator, self.denominator)\n",
    "        self.update = tf.assign(self.map, self.new_weights)\n",
    "\n",
    "        return self.update\n",
    "    "
   ]
  },
  {
   "cell_type": "code",
   "execution_count": 21,
   "metadata": {},
   "outputs": [
    {
     "name": "stdout",
     "output_type": "stream",
     "text": [
      "       Ward\n",
      "0  0.346939\n",
      "1  0.673469\n",
      "2  0.265306\n",
      "3  0.081633\n",
      "4  0.755102\n"
     ]
    }
   ],
   "source": [
    "data = pd.read_csv(\"b.csv\")\n",
    "\n",
    "data_ = data.iloc[:, [ 12]]\n",
    "\n",
    "\n",
    "mapping = {'False': 0, 'True': 1}\n",
    "\n",
    "data_ = data_.replace({False: 0, True: 1, 'nan' : 0})\n",
    "\n",
    "\n",
    "data_ -= data_.min()\n",
    "data_ /= data_.max()\n",
    "\n",
    "print(data_.head())\n",
    "# print(len(list(set(data[\"Primary Type\"].values))))\n",
    "\n",
    "\n",
    "\n",
    "v_data = np.nan_to_num(np.array(data_.values)[0:4096, :])"
   ]
  },
  {
   "cell_type": "code",
   "execution_count": 22,
   "metadata": {
    "scrolled": false
   },
   "outputs": [],
   "source": [
    "\n",
    "colors = v_data"
   ]
  },
  {
   "cell_type": "code",
   "execution_count": 29,
   "metadata": {},
   "outputs": [],
   "source": [
    "\n",
    "pca = PCA(n_components=3, svd_solver='arpack')\n",
    "pca.fit(v_data)\n",
    "colors = pca.fit_transform(v_data)\n"
   ]
  },
  {
   "cell_type": "code",
   "execution_count": 17,
   "metadata": {},
   "outputs": [
    {
     "name": "stdout",
     "output_type": "stream",
     "text": [
      "{'INTIMIDATION', 'CRIMINAL DAMAGE', 'GAMBLING', 'CONCEALED CARRY LICENSE VIOLATION', 'NARCOTICS', 'PROSTITUTION', 'PUBLIC PEACE VIOLATION', 'OTHER OFFENSE', 'ASSAULT', 'CRIM SEXUAL ASSAULT', 'WEAPONS VIOLATION', 'ROBBERY', 'OBSCENITY', 'STALKING', 'DECEPTIVE PRACTICE', 'LIQUOR LAW VIOLATION', 'HOMICIDE', 'THEFT', 'MOTOR VEHICLE THEFT', 'ARSON', 'OFFENSE INVOLVING CHILDREN', 'CRIMINAL TRESPASS', 'BURGLARY', 'NON-CRIMINAL', 'KIDNAPPING', 'INTERFERENCE WITH PUBLIC OFFICER', 'BATTERY', 'SEX OFFENSE'}\n"
     ]
    }
   ],
   "source": [
    "\n",
    "print(set(np.array(data[\"Primary Type\"].values)[0:4096]))\n",
    "names = np.array(data[\"Primary Type\"].values)\n"
   ]
  },
  {
   "cell_type": "code",
   "execution_count": null,
   "metadata": {},
   "outputs": [],
   "source": [
    "# hyper parameter\n",
    "dim  = 100\n",
    "SOM_layer = SOM(dim, dim, 1)\n",
    "num_epoch = 300\n",
    "batch_size = 4096\n",
    "\n",
    "\n",
    "import tensorflow.compat.v1 as tf\n",
    "tf.compat.v1.disable_v2_behavior()\n",
    "\n",
    "# create the graph\n",
    "x = tf.placeholder(shape=[batch_size, 1],dtype=tf.float32)\n",
    "current_iter = tf.placeholder(shape=[],dtype=tf.float32)\n",
    "\n",
    "# graph\n",
    "SOM_layer.feedforward(x)\n",
    "map_update=SOM_layer.backprop(current_iter,num_epoch)\n",
    "\n",
    "# session\n",
    "with tf.Session() as sess: \n",
    "\n",
    "    sess.run(tf.global_variables_initializer())\n",
    "\n",
    "    # start the training\n",
    "    for iter in range(num_epoch):\n",
    "        for current_train_index in range(0, len(colors),batch_size):\n",
    "            currren_train = colors[current_train_index:current_train_index+batch_size]\n",
    "            sess.run(map_update,feed_dict={x:currren_train,current_iter:iter})\n",
    "            \n",
    "            \n",
    "        if iter % 10 == 0: print(\"-- num_iter: \", iter, \" --\")\n",
    "        \n",
    "        \n",
    "    # get the trained map and normalize\n",
    "    trained_map = sess.run(SOM_layer.getmap()).reshape(dim,dim,1)\n",
    "    trained_map[:,:,0] = (trained_map[:,:,0]-trained_map[:,:,0].min())/(trained_map[:,:,0].max()-trained_map[:,:,0].min())\n",
    "   # trained_map[:,:,1] = (trained_map[:,:,1]-trained_map[:,:,1].min())/(trained_map[:,:,1].max()-trained_map[:,:,1].min())\n",
    "   # trained_map[:,:,2] = (trained_map[:,:,2]-trained_map[:,:,2].min())/(trained_map[:,:,2].max()-trained_map[:,:,2].min())\n",
    "\n",
    "    # after training is done get the cloest vector\n",
    "    locations = sess.run(SOM_layer.getlocation(), feed_dict={x:colors})\n",
    "    \n",
    "    \n",
    "    plt.figure(figsize=(20, 10))\n",
    "    plt.imshow(trained_map.astype(float))\n",
    "    "
   ]
  },
  {
   "cell_type": "code",
   "execution_count": 74,
   "metadata": {},
   "outputs": [
    {
     "data": {
      "image/png": "[encoded data removed]",
      "text/plain": [
       "<Figure size 1440x720 with 1 Axes>"
      ]
     },
     "metadata": {
      "needs_background": "light"
     },
     "output_type": "display_data"
    }
   ],
   "source": [
    "    plt.figure(figsize=(20, 10))\n",
    "    plt.imshow(trained_map.astype(float))\n",
    "    \n",
    "    count_points = []\n",
    "    b = tuple(tuple(i) for i in locations)\n",
    "    for point in list(set(tuple(i) for i in locations)):\n",
    "        count_points.append(b.count(point))\n",
    "    \n",
    "    for i, m in enumerate(list(set(tuple(i) for i in locations))):\n",
    "        plt.text(m[1], m[0], count_points[i], ha='center', va='center',bbox=dict(facecolor='white', alpha=0.5, lw=0)) \n",
    "    plt.axis('off')\n",
    "    plt.title('Color SOM')\n",
    "    plt.show()\n",
    "    plt.close('all')"
   ]
  },
  {
   "cell_type": "code",
   "execution_count": 72,
   "metadata": {
    "scrolled": false
   },
   "outputs": [
    {
     "ename": "NameError",
     "evalue": "name 'image_grid' is not defined",
     "output_type": "error",
     "traceback": [
      "\u001b[1;31m---------------------------------------------------------------------------\u001b[0m",
      "\u001b[1;31mNameError\u001b[0m                                 Traceback (most recent call last)",
      "\u001b[1;32m<ipython-input-72-f56c3836e6c0>\u001b[0m in \u001b[0;36m<module>\u001b[1;34m\u001b[0m\n\u001b[0;32m      2\u001b[0m \u001b[1;33m\u001b[0m\u001b[0m\n\u001b[0;32m      3\u001b[0m \u001b[0mplt\u001b[0m\u001b[1;33m.\u001b[0m\u001b[0mfigure\u001b[0m\u001b[1;33m(\u001b[0m\u001b[0mfigsize\u001b[0m\u001b[1;33m=\u001b[0m\u001b[1;33m(\u001b[0m\u001b[1;36m30\u001b[0m\u001b[1;33m,\u001b[0m \u001b[1;36m20\u001b[0m\u001b[1;33m)\u001b[0m\u001b[1;33m)\u001b[0m\u001b[1;33m\u001b[0m\u001b[1;33m\u001b[0m\u001b[0m\n\u001b[1;32m----> 4\u001b[1;33m \u001b[0mplt\u001b[0m\u001b[1;33m.\u001b[0m\u001b[0mimshow\u001b[0m\u001b[1;33m(\u001b[0m\u001b[0mimage_grid\u001b[0m\u001b[1;33m)\u001b[0m\u001b[1;33m\u001b[0m\u001b[1;33m\u001b[0m\u001b[0m\n\u001b[0m\u001b[0;32m      5\u001b[0m \u001b[0mplt\u001b[0m\u001b[1;33m.\u001b[0m\u001b[0mtitle\u001b[0m\u001b[1;33m(\u001b[0m\u001b[1;34m'Color SOM'\u001b[0m\u001b[1;33m)\u001b[0m\u001b[1;33m\u001b[0m\u001b[1;33m\u001b[0m\u001b[0m\n\u001b[0;32m      6\u001b[0m \u001b[1;33m\u001b[0m\u001b[0m\n",
      "\u001b[1;31mNameError\u001b[0m: name 'image_grid' is not defined"
     ]
    },
    {
     "data": {
      "text/plain": [
       "<Figure size 2160x1440 with 0 Axes>"
      ]
     },
     "metadata": {},
     "output_type": "display_data"
    }
   ],
   "source": [
    "# Plot\n",
    "\n",
    "plt.figure(figsize=(30, 20))\n",
    "plt.imshow(image_grid)\n",
    "plt.title('Color SOM')\n",
    "\n",
    "\n",
    "    \n",
    "p = {'OTHER OFFENSE':'black',\n",
    "     'CRIM SEXUAL ASSAULT':'blue',\n",
    "     'MOTOR VEHICLE THEFT':'darkblue',\n",
    "     'CRIMINAL TRESPASS':'skyblue', \n",
    "     'OFFENSE INVOLVING CHILDREN':'blue',\n",
    "     'INTERFERENCE WITH PUBLIC OFFICER':'violet',\n",
    "     'NARCOTICS':'green',\n",
    "     'ASSAULT':'red',\n",
    "     'BURGLARY':'cyan', \n",
    "     'LIQUOR LAW VIOLATION':'violet', \n",
    "     'ROBBERY':'yellow',\n",
    "     'CRIMINAL DAMAGE':'white',\n",
    "     'SEX OFFENSE':'darkgrey', \n",
    "     'BATTERY':'grey',\n",
    "     'THEFT':'lightgrey',\n",
    "     'DECEPTIVE PRACTICE':'black', \n",
    "     'WEAPONS VIOLATION':'blue', \n",
    "     'PROSTITUTION': 'darkblue' }\n",
    "\n",
    "for i, m in enumerate(mapped):\n",
    "    plt.text(m[1], m[0], names[i], ha='center', va='center',\n",
    "             bbox=dict(facecolor=p[names[i]], alpha=0.5, lw=0))\n",
    "\n",
    "plt.show()\n"
   ]
  }
 ],
 "metadata": {
  "kernelspec": {
   "display_name": "Python 3",
   "language": "python",
   "name": "python3"
  },
  "language_info": {
   "codemirror_mode": {
    "name": "ipython",
    "version": 3
   },
   "file_extension": ".py",
   "mimetype": "text/x-python",
   "name": "python",
   "nbconvert_exporter": "python",
   "pygments_lexer": "ipython3",
   "version": "3.8.5"
  }
 },
 "nbformat": 4,
 "nbformat_minor": 4
}
