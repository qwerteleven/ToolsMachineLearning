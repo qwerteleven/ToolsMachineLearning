{
 "cells": [
  {
   "cell_type": "markdown",
   "metadata": {
    "colab_type": "text",
    "id": "dZHHP-nhk-bO"
   },
   "source": [
    "# <center> Clustering with K-Means </center>\n",
    "\n"
   ]
  },
  {
   "cell_type": "markdown",
   "metadata": {
    "colab_type": "text",
    "id": "MSMTZ_kOlVQ6"
   },
   "source": [
    "## K-Means on Iris Dataset\n",
    "\n",
    "---"
   ]
  },
  {
   "cell_type": "code",
   "execution_count": 10,
   "metadata": {
    "colab": {},
    "colab_type": "code",
    "id": "VRxxHHsv_Z70"
   },
   "outputs": [],
   "source": [
    "import numpy             as np\n",
    "import gif\n",
    "import sklearn           as sk\n",
    "import matplotlib.pyplot as plt\n",
    "%matplotlib inline\n",
    "\n",
    "from sklearn.cluster              import KMeans\n",
    "from yellowbrick.cluster.elbow    import kelbow_visualizer\n",
    "from IPython.display              import HTML\n",
    "from sklearn.preprocessing        import scale\n",
    "from sklearn.datasets             import load_iris"
   ]
  },
  {
   "cell_type": "code",
   "execution_count": 2,
   "metadata": {},
   "outputs": [],
   "source": [
    "X = load_iris().data"
   ]
  },
  {
   "cell_type": "code",
   "execution_count": 3,
   "metadata": {
    "colab": {
     "base_uri": "https://localhost:8080/",
     "height": 5324
    },
    "colab_type": "code",
    "executionInfo": {
     "elapsed": 15327,
     "status": "ok",
     "timestamp": 1558121731355,
     "user": {
      "displayName": "qwerteleven kuihuih",
      "photoUrl": "",
      "userId": "17420874050594162777"
     },
     "user_tz": -60
    },
    "id": "mJPXWcq2Dr-5",
    "outputId": "54bd2e69-9d39-4097-f367-07430bcb2169"
   },
   "outputs": [],
   "source": [
    "class Kmeans:\n",
    "    def __init__(self, x1, x2, k, dist):\n",
    "        self.x1    = x1\n",
    "        self.x2    = x2\n",
    "        self.k     = k\n",
    "        self.dist  = dist\n",
    "        self.party = []\n",
    "        self.color = ['blue', 'orange', 'green'] # color <--> centroid\n",
    "        \n",
    "    def visualization_point_team(self):\n",
    "        for i in range (self.x1.size):\n",
    "            for centroid_index in range(self.k):\n",
    "                if (self.party[i] == centroid_index):\n",
    "                    plt.scatter(self.x1[i], self.x2[i],\n",
    "                                color=self.color[centroid_index % len(self.color)], # loop color < centroid\n",
    "                                alpha=0.5)\n",
    "    \n",
    "        \n",
    "    def init_position_centroid(self):\n",
    "        ic = [np.random.choice(self.x1.shape[0]) for i in range(self.k)]\n",
    "        self.centr = np.array([self.x1[ic, 0], self.x2[ic, 0]]).T\n",
    "        \n",
    "        \n",
    "    def init_position_centroid_kmeans_plus(self):\n",
    "        x = np.random.choice(self.x1.shape[0])\n",
    "        first_centroid = [self.x1[x, 0], self.x2[x, 0]]\n",
    "        \n",
    "        probability_distribution = [dist(first_centroid, [self.x1[i, 0], self.x2[i, 0]]) \n",
    "                                    for i in range(self.x1.shape[0])]\n",
    "        \n",
    "        probability_distribution = [i/sum(probability_distribution) \n",
    "                                    for i in probability_distribution]\n",
    "\n",
    "        ic = [np.random.choice(self.x1.shape[0], p=probability_distribution) for i in range(self.k - 1)]\n",
    "        \n",
    "        ic.append(x)\n",
    "\n",
    "        self.centr = np.array([self.x1[ic, 0], self.x2[ic, 0]]).T\n",
    "        \n",
    "        \n",
    "    def visualization_Centroid(self):\n",
    "        for c in range(self.k):\n",
    "            plt.plot(self.centr[c, 0], self.centr[c, 1], marker=\"X\", markersize=15)\n",
    "    \n",
    "    \n",
    "    def update_Closest_Centroid(self):\n",
    "        self.party = []\n",
    "        for i in range(self.x1.size):\n",
    "            e = []\n",
    "            for centroid in self.centr:\n",
    "                point = (self.x1[i], self.x2[i])\n",
    "                e.append(dist(point, centroid))    \n",
    "\n",
    "            self.party.append(e.index(min(e)))\n",
    "            \n",
    "    def elbow_k_election(self, X):\n",
    "        kelbow_visualizer(KMeans(), X, k=(1,10))\n",
    "    \n",
    "    def update_position_centroid(self):\n",
    "        for centroidIndex in range(self.k): \n",
    "            a, b = 0, 0\n",
    "            n_point = 0\n",
    "            for i in range(self.x1.size):\n",
    "                if (self.party[i] == centroidIndex):\n",
    "                    a += self.x1[i]\n",
    "                    b += self.x2[i]\n",
    "                    n_point += 1\n",
    "            \n",
    "            self.centr[centroidIndex, 0] = a / n_point\n",
    "            self.centr[centroidIndex, 1] = b / n_point\n",
    "               \n",
    "            \n",
    "    def update_Kmeans(self):\n",
    "        self.update_Closest_Centroid()\n",
    "        self.update_position_centroid()\n",
    "        self.visualization_Centroid()\n",
    "        self.visualization_point_team()\n",
    "        plt.show()\n",
    "        \n",
    "    def check_distance_update(self, actual_position_centroid):\n",
    "        TOL = 0.001\n",
    "        dist_update = dist(actual_position_centroid, self.centr)\n",
    "                \n",
    "        for distance in dist_update:\n",
    "            if distance > TOL:\n",
    "                return False\n",
    "            \n",
    "        return True\n",
    "    \n",
    "    def animated_update(self, n):\n",
    "        \n",
    "        @gif.frame\n",
    "        def plot(i):\n",
    "            self.visualization_Centroid()\n",
    "            self.visualization_point_team()\n",
    "\n",
    "        frames = []\n",
    "        for i in range(n):\n",
    "            actual_position_centroid = self.centr.copy()\n",
    "            self.update_Closest_Centroid()\n",
    "            self.update_position_centroid()\n",
    "            frame = plot(i)\n",
    "            plt.xlabel('Iteration: ' + str(i))\n",
    "            frames.append(frame)\n",
    "\n",
    "            if self.check_distance_update(actual_position_centroid):\n",
    "                break\n",
    "\n",
    "        gif.save(frames, 'Simple_kmeans.gif', duration=300)\n",
    "        plt.close()\n",
    "        "
   ]
  },
  {
   "cell_type": "markdown",
   "metadata": {},
   "source": [
    "## Heuristic Elbow Method\n",
    "\n",
    "---"
   ]
  },
  {
   "cell_type": "code",
   "execution_count": 11,
   "metadata": {},
   "outputs": [
    {
     "data": {
      "image/png": "[encoded data removed]",
      "text/plain": [
       "<Figure size 432x288 with 2 Axes>"
      ]
     },
     "metadata": {},
     "output_type": "display_data"
    }
   ],
   "source": [
    "# Euclidian Distance\n",
    "dist = lambda a, b: np.sqrt((a[0] - b[0]) ** 2 + (a[1] - b[1]) ** 2)\n",
    "\n",
    "# Scale variables\n",
    "x1 = scale(X[:, 0:1], with_mean=True, with_std=True)\n",
    "x2 = scale(X[:, 1:2], with_mean=True, with_std=True)\n",
    "k = 3\n",
    "n = 20\n",
    "\n",
    "kmeansModel = Kmeans(x1, x2, k, dist)\n",
    "      \n",
    "kmeansModel.elbow_k_election(np.hstack((x1, x2)))"
   ]
  },
  {
   "cell_type": "markdown",
   "metadata": {},
   "source": [
    "## K-means and K-means++\n",
    "\n",
    "---"
   ]
  },
  {
   "cell_type": "code",
   "execution_count": 12,
   "metadata": {
    "colab": {
     "base_uri": "https://localhost:8080/",
     "height": 5324
    },
    "colab_type": "code",
    "executionInfo": {
     "elapsed": 15327,
     "status": "ok",
     "timestamp": 1558121731355,
     "user": {
      "displayName": "qwerteleven kuihuih",
      "photoUrl": "",
      "userId": "17420874050594162777"
     },
     "user_tz": -60
    },
    "id": "mJPXWcq2Dr-5",
    "outputId": "54bd2e69-9d39-4097-f367-07430bcb2169",
    "scrolled": true
   },
   "outputs": [
    {
     "data": {
      "text/html": [
       "<img class=\"NO-CACHE\" src=\"./Simple_kmeans.gif\">"
      ],
      "text/plain": [
       "<IPython.core.display.HTML object>"
      ]
     },
     "execution_count": 12,
     "metadata": {},
     "output_type": "execute_result"
    }
   ],
   "source": [
    "\n",
    "# kmeansModel.init_position_centroid()   #simple K-means\n",
    "\n",
    "kmeansModel.init_position_centroid_kmeans_plus()     #K-means++\n",
    "kmeansModel.animated_update(n)\n",
    "\n",
    "HTML('<img class=\"NO-CACHE\" src=\"./Simple_kmeans.gif\">')\n",
    "\n"
   ]
  }
 ],
 "metadata": {
  "colab": {
   "collapsed_sections": [],
   "name": "Copia de Exerc.6 - K-Means.ipynb",
   "provenance": [
    {
     "file_id": "1ajWWRkS0MTcYrP3F4-taTi3j7Fc9D49Y",
     "timestamp": 1558113330039
    }
   ],
   "version": "0.3.2"
  },
  "kernelspec": {
   "display_name": "Python 3",
   "language": "python",
   "name": "python3"
  },
  "language_info": {
   "codemirror_mode": {
    "name": "ipython",
    "version": 3
   },
   "file_extension": ".py",
   "mimetype": "text/x-python",
   "name": "python",
   "nbconvert_exporter": "python",
   "pygments_lexer": "ipython3",
   "version": "3.7.6"
  }
 },
 "nbformat": 4,
 "nbformat_minor": 1
}
